{
 "cells": [
  {
   "cell_type": "markdown",
   "metadata": {},
   "source": [
    "Predicting a movie's sucess - Logistic & Random Forest Classifier (Full Dataset)"
   ]
  },
  {
   "cell_type": "code",
   "execution_count": 1,
   "metadata": {},
   "outputs": [],
   "source": [
    "import pyspark\n",
    "\n",
    "from pyspark.sql import SparkSession"
   ]
  },
  {
   "cell_type": "code",
   "execution_count": 2,
   "metadata": {},
   "outputs": [],
   "source": [
    "spark = SparkSession.builder.getOrCreate()"
   ]
  },
  {
   "cell_type": "code",
   "execution_count": 3,
   "metadata": {},
   "outputs": [],
   "source": [
    "spark=SparkSession.builder.appName('movies_model').getOrCreate() "
   ]
  },
  {
   "cell_type": "code",
   "execution_count": 44,
   "metadata": {},
   "outputs": [],
   "source": [
    "movies = spark.read.csv('fullmovies.csv',inferSchema=True,header=True)"
   ]
  },
  {
   "cell_type": "markdown",
   "metadata": {},
   "source": [
    "Selecting the columns that we want to use as predictors"
   ]
  },
  {
   "cell_type": "code",
   "execution_count": 45,
   "metadata": {},
   "outputs": [],
   "source": [
    "movies = movies.select('titleType','isAdult','startYear','runtimeMinutes','genres','averageRating','numVotes')"
   ]
  },
  {
   "cell_type": "code",
   "execution_count": 46,
   "metadata": {},
   "outputs": [
    {
     "name": "stdout",
     "output_type": "stream",
     "text": [
      "+---------+-------+---------+--------------+--------------------+-------------+--------+\n",
      "|titleType|isAdult|startYear|runtimeMinutes|              genres|averageRating|numVotes|\n",
      "+---------+-------+---------+--------------+--------------------+-------------+--------+\n",
      "|    short|    0.0|     1894|             1|   Documentary,Short|          5.6|  1550.0|\n",
      "|    short|    0.0|     1892|             4|Animation,Comedy,...|          6.5|  1207.0|\n",
      "|    short|    0.0|     1893|             1|        Comedy,Short|          6.1|  1934.0|\n",
      "|    short|    0.0|     1894|             1|         Short,Sport|          5.5|   615.0|\n",
      "|    short|    0.0|     1894|             1|   Documentary,Short|          5.4|  1667.0|\n",
      "|    short|    0.0|     1895|             1|   Documentary,Short|          6.9|  5545.0|\n",
      "|    short|    0.0|     1896|             1|Action,Documentar...|          7.4|  9435.0|\n",
      "|    short|    0.0|     1895|             1|   Documentary,Short|          5.7|  1447.0|\n",
      "|    short|    0.0|     1895|             1|        Comedy,Short|          7.1|  4111.0|\n",
      "|    short|    0.0|     1894|             2|     Animation,Short|          6.1|   741.0|\n",
      "+---------+-------+---------+--------------+--------------------+-------------+--------+\n",
      "only showing top 10 rows\n",
      "\n"
     ]
    }
   ],
   "source": [
    "movies.show(10)"
   ]
  },
  {
   "cell_type": "markdown",
   "metadata": {},
   "source": [
    "Creating a new binary Success column where if the average rating is greater than 7, the movie can be constituted as a success, and if it's less, than it's not."
   ]
  },
  {
   "cell_type": "code",
   "execution_count": 47,
   "metadata": {},
   "outputs": [
    {
     "name": "stdout",
     "output_type": "stream",
     "text": [
      "+---------+-------+---------+--------------+--------------------+-------------+--------+-------+\n",
      "|titleType|isAdult|startYear|runtimeMinutes|              genres|averageRating|numVotes|Success|\n",
      "+---------+-------+---------+--------------+--------------------+-------------+--------+-------+\n",
      "|    short|    0.0|     1894|             1|   Documentary,Short|          5.6|  1550.0|      0|\n",
      "|    short|    0.0|     1892|             4|Animation,Comedy,...|          6.5|  1207.0|      1|\n",
      "|    short|    0.0|     1893|             1|        Comedy,Short|          6.1|  1934.0|      0|\n",
      "|    short|    0.0|     1894|             1|         Short,Sport|          5.5|   615.0|      0|\n",
      "|    short|    0.0|     1894|             1|   Documentary,Short|          5.4|  1667.0|      0|\n",
      "+---------+-------+---------+--------------+--------------------+-------------+--------+-------+\n",
      "only showing top 5 rows\n",
      "\n"
     ]
    }
   ],
   "source": [
    "from pyspark.sql import functions as f\n",
    "movies = movies.withColumn('Success', f.when(f.col('averageRating') >= 6.4, 1).otherwise(0))\n",
    "movies.show(5)"
   ]
  },
  {
   "cell_type": "markdown",
   "metadata": {},
   "source": [
    "Delete the average rating column "
   ]
  },
  {
   "cell_type": "code",
   "execution_count": 48,
   "metadata": {},
   "outputs": [],
   "source": [
    "movies = movies.drop('averageRating')"
   ]
  },
  {
   "cell_type": "markdown",
   "metadata": {},
   "source": [
    "Remove the video game title as it doesn't have a run time, and any special characters in the runtime column. "
   ]
  },
  {
   "cell_type": "code",
   "execution_count": 49,
   "metadata": {},
   "outputs": [],
   "source": [
    "movies = movies.filter(movies.titleType !='videoGame')   \n",
    "movies = movies.filter(movies.runtimeMinutes !='\\\\N') "
   ]
  },
  {
   "cell_type": "markdown",
   "metadata": {},
   "source": [
    "Make sure the runtime column is an integer type."
   ]
  },
  {
   "cell_type": "code",
   "execution_count": 50,
   "metadata": {},
   "outputs": [],
   "source": [
    "from pyspark.sql.types import IntegerType\n",
    "movies = movies.withColumn(\"runtimeMinutes\", movies[\"runtimeMinutes\"].cast(IntegerType()))"
   ]
  },
  {
   "cell_type": "code",
   "execution_count": 51,
   "metadata": {},
   "outputs": [],
   "source": [
    "from pyspark.ml.feature import OneHotEncoderEstimator, StringIndexer, VectorAssembler"
   ]
  },
  {
   "cell_type": "code",
   "execution_count": 52,
   "metadata": {},
   "outputs": [],
   "source": [
    "columns = movies.columns"
   ]
  },
  {
   "cell_type": "markdown",
   "metadata": {},
   "source": [
    "Convert the string columns to categorical variables that can be used as features."
   ]
  },
  {
   "cell_type": "code",
   "execution_count": 53,
   "metadata": {},
   "outputs": [],
   "source": [
    "categoricalColumns = ['genres','titleType','startYear']\n",
    "stages = []"
   ]
  },
  {
   "cell_type": "code",
   "execution_count": 54,
   "metadata": {},
   "outputs": [],
   "source": [
    "for i in categoricalColumns:\n",
    "    stringIndexer = StringIndexer(inputCol = i, outputCol = i + 'Index')\n",
    "    encoder = OneHotEncoderEstimator(inputCols=[stringIndexer.getOutputCol()], outputCols=[i + \"classVec\"])\n",
    "    stages += [stringIndexer, encoder]"
   ]
  },
  {
   "cell_type": "markdown",
   "metadata": {},
   "source": [
    "Create a label column that has a success/failure of a movie."
   ]
  },
  {
   "cell_type": "code",
   "execution_count": 55,
   "metadata": {},
   "outputs": [],
   "source": [
    "labelcolumn = StringIndexer(inputCol = 'Success', outputCol = 'Label')\n",
    "stages += [labelcolumn]"
   ]
  },
  {
   "cell_type": "markdown",
   "metadata": {},
   "source": [
    "For the numerical columns, we can convert them to a vector and then add it to the existing categorical variables that were created for the initial columns. "
   ]
  },
  {
   "cell_type": "code",
   "execution_count": 56,
   "metadata": {},
   "outputs": [],
   "source": [
    "numericColumns = ['runtimeMinutes','numVotes','isAdult']\n",
    "assembler = [c + \"classVec\" for c in categoricalColumns] + numericColumns\n",
    "assembler = VectorAssembler(inputCols=assembler, outputCol=\"features\")\n",
    "stages += [assembler]"
   ]
  },
  {
   "cell_type": "markdown",
   "metadata": {},
   "source": [
    "The new movies dataframe should have the existing columns, along with the newly created columns (Features/Label)"
   ]
  },
  {
   "cell_type": "code",
   "execution_count": 57,
   "metadata": {},
   "outputs": [
    {
     "name": "stdout",
     "output_type": "stream",
     "text": [
      "root\n",
      " |-- label: double (nullable = false)\n",
      " |-- features: vector (nullable = true)\n",
      " |-- titleType: string (nullable = true)\n",
      " |-- isAdult: double (nullable = true)\n",
      " |-- startYear: integer (nullable = true)\n",
      " |-- runtimeMinutes: integer (nullable = true)\n",
      " |-- genres: string (nullable = true)\n",
      " |-- numVotes: double (nullable = true)\n",
      " |-- Success: integer (nullable = false)\n",
      "\n"
     ]
    }
   ],
   "source": [
    "from pyspark.ml import Pipeline\n",
    "pipeline = Pipeline(stages = stages)\n",
    "pipelineModel = pipeline.fit(movies)\n",
    "movies = pipelineModel.transform(movies)\n",
    "selectedColumns = ['label', 'features'] + columns\n",
    "movies = movies.select(selectedColumns)\n",
    "movies.printSchema()"
   ]
  },
  {
   "cell_type": "code",
   "execution_count": 58,
   "metadata": {},
   "outputs": [
    {
     "name": "stdout",
     "output_type": "stream",
     "text": [
      "+-----+--------------------+---------+-------+---------+--------------+--------------------+--------+-------+\n",
      "|label|            features|titleType|isAdult|startYear|runtimeMinutes|              genres|numVotes|Success|\n",
      "+-----+--------------------+---------+-------+---------+--------------+--------------------+--------+-------+\n",
      "|  1.0|(1330,[45,1188,13...|    short|    0.0|     1894|             1|   Documentary,Short|  1550.0|      0|\n",
      "|  0.0|(1330,[221,1188,1...|    short|    0.0|     1892|             4|Animation,Comedy,...|  1207.0|      1|\n",
      "|  1.0|(1330,[22,1188,13...|    short|    0.0|     1893|             1|        Comedy,Short|  1934.0|      0|\n",
      "|  1.0|(1330,[616,1188,1...|    short|    0.0|     1894|             1|         Short,Sport|   615.0|      0|\n",
      "|  1.0|(1330,[45,1188,13...|    short|    0.0|     1894|             1|   Documentary,Short|  1667.0|      0|\n",
      "|  0.0|(1330,[45,1188,13...|    short|    0.0|     1895|             1|   Documentary,Short|  5545.0|      1|\n",
      "|  0.0|(1330,[785,1188,1...|    short|    0.0|     1896|             1|Action,Documentar...|  9435.0|      1|\n",
      "|  1.0|(1330,[45,1188,13...|    short|    0.0|     1895|             1|   Documentary,Short|  1447.0|      0|\n",
      "|  0.0|(1330,[22,1188,13...|    short|    0.0|     1895|             1|        Comedy,Short|  4111.0|      1|\n",
      "|  1.0|(1330,[101,1188,1...|    short|    0.0|     1894|             2|     Animation,Short|   741.0|      0|\n",
      "+-----+--------------------+---------+-------+---------+--------------+--------------------+--------+-------+\n",
      "only showing top 10 rows\n",
      "\n"
     ]
    }
   ],
   "source": [
    "movies.show(10)"
   ]
  },
  {
   "cell_type": "markdown",
   "metadata": {},
   "source": [
    "Next, we can split the data into training & test sets and then start off with Logistic Regression"
   ]
  },
  {
   "cell_type": "code",
   "execution_count": 59,
   "metadata": {},
   "outputs": [],
   "source": [
    "train, test = movies.randomSplit([0.7, 0.3])"
   ]
  },
  {
   "cell_type": "code",
   "execution_count": 60,
   "metadata": {},
   "outputs": [],
   "source": [
    "from pyspark.ml.classification import LogisticRegression\n",
    "lr = LogisticRegression(featuresCol = 'features', labelCol = 'label', maxIter=10)\n",
    "lrModel = lr.fit(train)\n",
    "pred_train = lrModel.transform(train)\n",
    "pred_test = lrModel.transform(test)"
   ]
  },
  {
   "cell_type": "code",
   "execution_count": 62,
   "metadata": {},
   "outputs": [
    {
     "data": {
      "image/png": "[encoded data removed]",
      "text/plain": [
       "<Figure size 432x288 with 1 Axes>"
      ]
     },
     "metadata": {
      "needs_background": "light"
     },
     "output_type": "display_data"
    },
    {
     "name": "stdout",
     "output_type": "stream",
     "text": [
      "Training Data: Area Under ROC: 0.8333056004562016\n"
     ]
    }
   ],
   "source": [
    "import matplotlib.pyplot as plt\n",
    "import numpy as np\n",
    "\n",
    "trainingSummary = lrModel.summary\n",
    "roc = trainingSummary.roc.toPandas()\n",
    "plt.plot(roc['FPR'],roc['TPR'])\n",
    "plt.ylabel('False Positive Rate')\n",
    "plt.xlabel('True Positive Rate')\n",
    "plt.title('ROC Curve')\n",
    "plt.show()\n",
    "print('Training Data: Area Under ROC: ' + str(trainingSummary.areaUnderROC))"
   ]
  },
  {
   "cell_type": "markdown",
   "metadata": {},
   "source": [
    "We can see the probability of a success/failure by including our features."
   ]
  },
  {
   "cell_type": "code",
   "execution_count": 61,
   "metadata": {},
   "outputs": [
    {
     "name": "stdout",
     "output_type": "stream",
     "text": [
      "+---------+---------+--------------+---------+------+-------+----------+--------------------+\n",
      "|titleType| numVotes|runTimeMinutes|startYear|genres|Success|prediction|         probability|\n",
      "+---------+---------+--------------+---------+------+-------+----------+--------------------+\n",
      "|    movie|   5016.0|           122|     2018| Drama|      1|       0.0|[0.68127161038781...|\n",
      "|    movie|    457.0|           136|     2010| Drama|      1|       0.0|[0.65981349339522...|\n",
      "|    movie|   3674.0|           106|     2001| Drama|      1|       0.0|[0.63379997090807...|\n",
      "|    movie|    303.0|            84|     2000| Drama|      1|       0.0|[0.55480525517470...|\n",
      "|    movie|    772.0|            86|     2000| Drama|      1|       0.0|[0.56079229229445...|\n",
      "|    movie|    309.0|            87|     2000| Drama|      1|       0.0|[0.56080688490253...|\n",
      "|    movie|    295.0|            89|     2000| Drama|      1|       0.0|[0.56472161444352...|\n",
      "|    movie|   1142.0|            92|     2000| Drama|      1|       0.0|[0.57425696243811...|\n",
      "|    movie|    368.0|            95|     2000| Drama|      1|       0.0|[0.57690171633508...|\n",
      "|    movie|   3595.0|            99|     2000| Drama|      1|       0.0|[0.59826638167571...|\n",
      "|    movie| 716729.0|           102|     2000| Drama|      1|       0.0|[0.99999715610575...|\n",
      "|    movie|    298.0|           106|     2000| Drama|      1|       0.0|[0.59813300521815...|\n",
      "|    movie|   5071.0|           110|     2000| Drama|      1|       0.0|[0.62542521897681...|\n",
      "|    movie|   3417.0|           112|     2000| Drama|      1|       0.0|[0.62249541168555...|\n",
      "|    movie|   1014.0|           115|     2000| Drama|      1|       0.0|[0.61840268711979...|\n",
      "|    movie|  10865.0|           118|     2000| Drama|      1|       0.0|[0.66319644096022...|\n",
      "|    movie| 108474.0|           123|     2000| Drama|      1|       0.0|[0.91743862379275...|\n",
      "|    movie|    707.0|           130|     2000| Drama|      1|       0.0|[0.64533573300741...|\n",
      "|    movie|   1197.0|           171|     2000| Drama|      1|       0.0|[0.71873625195591...|\n",
      "|    movie|    302.0|            55|     1999| Drama|      1|       0.0|[0.50989175598251...|\n",
      "|    movie|    812.0|            79|     1999| Drama|      1|       0.0|[0.56026265761979...|\n",
      "|    movie|   2804.0|            92|     1999| Drama|      1|       0.0|[0.59428501841993...|\n",
      "|    movie|  11773.0|            95|     1999| Drama|      1|       0.0|[0.63673797420188...|\n",
      "|    movie|    615.0|           100|     1999| Drama|      1|       0.0|[0.60070757574377...|\n",
      "|    movie|    728.0|           100|     1999| Drama|      1|       0.0|[0.60117678591070...|\n",
      "|    movie|   3166.0|           101|     1999| Drama|      1|       0.0|[0.61317088378188...|\n",
      "|    movie|   1303.0|           104|     1999| Drama|      1|       0.0|[0.61126461802298...|\n",
      "|    movie|    431.0|           105|     1999| Drama|      1|       0.0|[0.60959461897874...|\n",
      "|    movie|   7820.0|           106|     1999| Drama|      1|       0.0|[0.64144112717694...|\n",
      "|    movie|    476.0|           108|     1999| Drama|      1|       0.0|[0.61552951525487...|\n",
      "|    movie|   2958.0|           113|     1999| Drama|      1|       0.0|[0.63505658228916...|\n",
      "|    movie|   2226.0|           117|     1999| Drama|      1|       0.0|[0.63959378091565...|\n",
      "|    movie|    656.0|           120|     1999| Drama|      1|       0.0|[0.63891204174462...|\n",
      "|    movie|1009428.0|           122|     1999| Drama|      1|       0.0|[0.99999998556491...|\n",
      "|    movie|   3891.0|           125|     1999| Drama|      1|       0.0|[0.66083988207951...|\n",
      "|    movie|   2523.0|           135|     1999| Drama|      1|       0.0|[0.67351208149924...|\n",
      "|    movie|1725444.0|           139|     1999| Drama|      1|       0.0|[0.99999999999994...|\n",
      "|    movie|    287.0|           147|     1999| Drama|      1|       0.0|[0.68617764661290...|\n",
      "|    movie|    641.0|            75|     1998| Drama|      1|       0.0|[0.56906436910262...|\n",
      "|    movie|    352.0|            76|     1998| Drama|      1|       0.0|[0.56981756605832...|\n",
      "|    movie|   2089.0|            86|     1998| Drama|      1|       0.0|[0.59675045243508...|\n",
      "|    movie|    932.0|            91|     1998| Drama|      1|       0.0|[0.60163693166419...|\n",
      "|    movie|   1875.0|            95|     1998| Drama|      1|       0.0|[0.61323300220735...|\n",
      "|    movie|    312.0|           100|     1998| Drama|      1|       0.0|[0.61638671569841...|\n",
      "|    movie|    286.0|           107|     1998| Drama|      1|       0.0|[0.62955815721217...|\n",
      "|    movie|    265.0|           110|     1998| Drama|      1|       0.0|[0.63510630344182...|\n",
      "|    movie|    310.0|           110|     1998| Drama|      1|       0.0|[0.63528685450728...|\n",
      "|    movie|   1410.0|           112|     1998| Drama|      1|       0.0|[0.64340277765343...|\n",
      "|    movie|   7053.0|           113|     1998| Drama|      1|       0.0|[0.66728881689047...|\n",
      "|    movie|  33368.0|           113|     1998| Drama|      1|       0.0|[0.75980127037355...|\n",
      "+---------+---------+--------------+---------+------+-------+----------+--------------------+\n",
      "only showing top 50 rows\n",
      "\n"
     ]
    }
   ],
   "source": [
    "pred_test.select('titleType','numVotes','runTimeMinutes','startYear','genres', 'Success','prediction', 'probability').show(50)"
   ]
  },
  {
   "cell_type": "markdown",
   "metadata": {},
   "source": [
    "Evaluate our model on the training and test sets"
   ]
  },
  {
   "cell_type": "code",
   "execution_count": 63,
   "metadata": {
    "scrolled": true
   },
   "outputs": [
    {
     "name": "stdout",
     "output_type": "stream",
     "text": [
      "Training Data Area Under ROC 0.8333383062265413\n",
      "Testing Data Area Under ROC 0.8103034554825168\n"
     ]
    }
   ],
   "source": [
    "from pyspark.ml.evaluation import BinaryClassificationEvaluator\n",
    "evaluator = BinaryClassificationEvaluator()\n",
    "print('Training Data Area Under ROC', evaluator.evaluate(pred_train))\n",
    "print('Testing Data Area Under ROC', evaluator.evaluate(pred_test))"
   ]
  },
  {
   "cell_type": "markdown",
   "metadata": {},
   "source": [
    "Confusion Matrix Terms\n",
    "\n",
    "True Positive (TP): Correctly predicted to be a positive class.\n",
    "False Positive (FP): Incorrectly predicted to be a positive class.\n",
    "True Negative (TN): Correctly predicted to not be a positive class.\n",
    "False Negative (FN): Incorrectly predicted to not be a positive class."
   ]
  },
  {
   "cell_type": "code",
   "execution_count": 64,
   "metadata": {},
   "outputs": [
    {
     "data": {
      "text/plain": [
       "defaultdict(int,\n",
       "            {Row(label=0.0, prediction=0.0): 10110,\n",
       "             Row(label=0.0, prediction=1.0): 2594,\n",
       "             Row(label=1.0, prediction=0.0): 3207,\n",
       "             Row(label=1.0, prediction=1.0): 6341})"
      ]
     },
     "execution_count": 64,
     "metadata": {},
     "output_type": "execute_result"
    }
   ],
   "source": [
    "label_pred_test = pred_test.select('label', 'prediction')\n",
    "label_pred_test.rdd.zipWithIndex().countByKey()"
   ]
  },
  {
   "cell_type": "code",
   "execution_count": 65,
   "metadata": {},
   "outputs": [],
   "source": [
    "Recall = 6341/(6341+3207)\n",
    "Accuracy =  (6341+10110)/(10110+2594+3207+6341)\n",
    "Precision = 6341/(6341+2594)"
   ]
  },
  {
   "cell_type": "code",
   "execution_count": 66,
   "metadata": {},
   "outputs": [
    {
     "name": "stdout",
     "output_type": "stream",
     "text": [
      "Recall 0.6641181399245916\n",
      "Accuracy 0.7393043321948589\n",
      "Precision 0.7096810296586458\n"
     ]
    }
   ],
   "source": [
    "print ('Recall',Recall)\n",
    "print ('Accuracy', Accuracy)\n",
    "print ('Precision', Precision)"
   ]
  },
  {
   "cell_type": "markdown",
   "metadata": {},
   "source": [
    "Based on the results, it looks like our model has performed fairly well with the Logistic Regression model."
   ]
  },
  {
   "cell_type": "markdown",
   "metadata": {},
   "source": [
    "Now let's try to use the Random Forest classifier to see if we can get a better model!"
   ]
  },
  {
   "cell_type": "code",
   "execution_count": 67,
   "metadata": {},
   "outputs": [],
   "source": [
    "from pyspark.ml.classification import RandomForestClassifier\n",
    "rf = RandomForestClassifier(featuresCol = 'features', labelCol = 'label')\n",
    "rfModel = rf.fit(train)\n",
    "rfpred_train = rfModel.transform(train)\n",
    "rfpred_test = rfModel.transform(test)"
   ]
  },
  {
   "cell_type": "code",
   "execution_count": 68,
   "metadata": {},
   "outputs": [
    {
     "name": "stdout",
     "output_type": "stream",
     "text": [
      "+---------+---------+--------------+------+---------+-------+----------+--------------------+\n",
      "|titleType| numVotes|runTimeMinutes|genres|startYear|Success|prediction|         probability|\n",
      "+---------+---------+--------------+------+---------+-------+----------+--------------------+\n",
      "|    movie|   5016.0|           122| Drama|     2018|      1|       0.0|[0.57430694239223...|\n",
      "|    movie|    457.0|           136| Drama|     2010|      1|       0.0|[0.56981797878214...|\n",
      "|    movie|   3674.0|           106| Drama|     2001|      1|       0.0|[0.56070370021515...|\n",
      "|    movie|    303.0|            84| Drama|     2000|      1|       0.0|[0.55621473660505...|\n",
      "|    movie|    772.0|            86| Drama|     2000|      1|       0.0|[0.55621473660505...|\n",
      "|    movie|    309.0|            87| Drama|     2000|      1|       0.0|[0.55621473660505...|\n",
      "|    movie|    295.0|            89| Drama|     2000|      1|       0.0|[0.55621473660505...|\n",
      "|    movie|   1142.0|            92| Drama|     2000|      1|       0.0|[0.56070370021515...|\n",
      "|    movie|    368.0|            95| Drama|     2000|      1|       0.0|[0.55621473660505...|\n",
      "|    movie|   3595.0|            99| Drama|     2000|      1|       0.0|[0.56070370021515...|\n",
      "|    movie| 716729.0|           102| Drama|     2000|      1|       0.0|[0.56070370021515...|\n",
      "|    movie|    298.0|           106| Drama|     2000|      1|       0.0|[0.55621473660505...|\n",
      "|    movie|   5071.0|           110| Drama|     2000|      1|       0.0|[0.57430694239223...|\n",
      "|    movie|   3417.0|           112| Drama|     2000|      1|       0.0|[0.57430694239223...|\n",
      "|    movie|   1014.0|           115| Drama|     2000|      1|       0.0|[0.56997581278103...|\n",
      "|    movie|  10865.0|           118| Drama|     2000|      1|       0.0|[0.57430694239223...|\n",
      "|    movie| 108474.0|           123| Drama|     2000|      1|       0.0|[0.57430694239223...|\n",
      "|    movie|    707.0|           130| Drama|     2000|      1|       0.0|[0.56981797878214...|\n",
      "|    movie|   1197.0|           171| Drama|     2000|      1|       0.0|[0.57430694239223...|\n",
      "|    movie|    302.0|            55| Drama|     1999|      1|       0.0|[0.62965062562414...|\n",
      "|    movie|    812.0|            79| Drama|     1999|      1|       0.0|[0.55621473660505...|\n",
      "|    movie|   2804.0|            92| Drama|     1999|      1|       0.0|[0.56070370021515...|\n",
      "|    movie|  11773.0|            95| Drama|     1999|      1|       0.0|[0.56070370021515...|\n",
      "|    movie|    615.0|           100| Drama|     1999|      1|       0.0|[0.55621473660505...|\n",
      "|    movie|    728.0|           100| Drama|     1999|      1|       0.0|[0.55621473660505...|\n",
      "|    movie|   3166.0|           101| Drama|     1999|      1|       0.0|[0.56070370021515...|\n",
      "|    movie|   1303.0|           104| Drama|     1999|      1|       0.0|[0.56070370021515...|\n",
      "|    movie|    431.0|           105| Drama|     1999|      1|       0.0|[0.55621473660505...|\n",
      "|    movie|   7820.0|           106| Drama|     1999|      1|       0.0|[0.56070370021515...|\n",
      "|    movie|    476.0|           108| Drama|     1999|      1|       0.0|[0.55621473660505...|\n",
      "|    movie|   2958.0|           113| Drama|     1999|      1|       0.0|[0.57430694239223...|\n",
      "|    movie|   2226.0|           117| Drama|     1999|      1|       0.0|[0.57430694239223...|\n",
      "|    movie|    656.0|           120| Drama|     1999|      1|       0.0|[0.56981797878214...|\n",
      "|    movie|1009428.0|           122| Drama|     1999|      1|       0.0|[0.57430694239223...|\n",
      "|    movie|   3891.0|           125| Drama|     1999|      1|       0.0|[0.57430694239223...|\n",
      "|    movie|   2523.0|           135| Drama|     1999|      1|       0.0|[0.57430694239223...|\n",
      "|    movie|1725444.0|           139| Drama|     1999|      1|       0.0|[0.57430694239223...|\n",
      "|    movie|    287.0|           147| Drama|     1999|      1|       0.0|[0.56981797878214...|\n",
      "|    movie|    641.0|            75| Drama|     1998|      1|       0.0|[0.55621473660505...|\n",
      "|    movie|    352.0|            76| Drama|     1998|      1|       0.0|[0.55621473660505...|\n",
      "|    movie|   2089.0|            86| Drama|     1998|      1|       0.0|[0.56070370021515...|\n",
      "|    movie|    932.0|            91| Drama|     1998|      1|       0.0|[0.55621473660505...|\n",
      "|    movie|   1875.0|            95| Drama|     1998|      1|       0.0|[0.56070370021515...|\n",
      "|    movie|    312.0|           100| Drama|     1998|      1|       0.0|[0.55621473660505...|\n",
      "|    movie|    286.0|           107| Drama|     1998|      1|       0.0|[0.55621473660505...|\n",
      "|    movie|    265.0|           110| Drama|     1998|      1|       0.0|[0.56981797878214...|\n",
      "|    movie|    310.0|           110| Drama|     1998|      1|       0.0|[0.56981797878214...|\n",
      "|    movie|   1410.0|           112| Drama|     1998|      1|       0.0|[0.57430694239223...|\n",
      "|    movie|   7053.0|           113| Drama|     1998|      1|       0.0|[0.57430694239223...|\n",
      "|    movie|  33368.0|           113| Drama|     1998|      1|       0.0|[0.57430694239223...|\n",
      "+---------+---------+--------------+------+---------+-------+----------+--------------------+\n",
      "only showing top 50 rows\n",
      "\n"
     ]
    }
   ],
   "source": [
    "rfpred_test.select('titleType','numVotes','runTimeMinutes','genres','startYear','Success','prediction', 'probability').show(50)"
   ]
  },
  {
   "cell_type": "code",
   "execution_count": 69,
   "metadata": {
    "scrolled": true
   },
   "outputs": [
    {
     "name": "stdout",
     "output_type": "stream",
     "text": [
      "Train Area Under ROC 0.7369100901206973\n",
      "Test Area Under ROC 0.7284965170676807\n"
     ]
    }
   ],
   "source": [
    "print('Train Area Under ROC', evaluator.evaluate(rfpred_train))\n",
    "print('Test Area Under ROC', evaluator.evaluate(rfpred_test))"
   ]
  },
  {
   "cell_type": "markdown",
   "metadata": {},
   "source": [
    "Generate the confusion matrix to calculate the metrics"
   ]
  },
  {
   "cell_type": "code",
   "execution_count": 70,
   "metadata": {},
   "outputs": [
    {
     "data": {
      "text/plain": [
       "defaultdict(int,\n",
       "            {Row(label=0.0, prediction=0.0): 12634,\n",
       "             Row(label=0.0, prediction=1.0): 70,\n",
       "             Row(label=1.0, prediction=0.0): 9007,\n",
       "             Row(label=1.0, prediction=1.0): 541})"
      ]
     },
     "execution_count": 70,
     "metadata": {},
     "output_type": "execute_result"
    }
   ],
   "source": [
    "label_rfpred_test = rfpred_test.select('label', 'prediction')\n",
    "label_rfpred_test.rdd.zipWithIndex().countByKey()"
   ]
  },
  {
   "cell_type": "code",
   "execution_count": 71,
   "metadata": {},
   "outputs": [],
   "source": [
    "rfRecall = 541/(541+9007)\n",
    "rfAccuracy = (541+12634)/(12634+70+9007+541)\n",
    "rfPrecision = 541/(541+70)"
   ]
  },
  {
   "cell_type": "code",
   "execution_count": 72,
   "metadata": {},
   "outputs": [
    {
     "name": "stdout",
     "output_type": "stream",
     "text": [
      "Recall 0.056661080854629245\n",
      "Accuracy 0.59208161064174\n",
      "Precision 0.8854337152209493\n"
     ]
    }
   ],
   "source": [
    "print ('Recall',rfRecall)\n",
    "print ('Accuracy', rfAccuracy)\n",
    "print ('Precision', rfPrecision)"
   ]
  },
  {
   "cell_type": "markdown",
   "metadata": {},
   "source": [
    "Based on the analysis above, we can conclude that the Logistic regression model has performed much better than the Random Forest. The Random forest model has performed quite poorly compared to the initial model, so additional tuning to the parameters might be required. \n",
    "\n"
   ]
  }
 ],
 "metadata": {
  "kernelspec": {
   "display_name": "Python 3",
   "language": "python",
   "name": "python3"
  },
  "language_info": {
   "codemirror_mode": {
    "name": "ipython",
    "version": 3
   },
   "file_extension": ".py",
   "mimetype": "text/x-python",
   "name": "python",
   "nbconvert_exporter": "python",
   "pygments_lexer": "ipython3",
   "version": "3.7.3"
  }
 },
 "nbformat": 4,
 "nbformat_minor": 2
}
